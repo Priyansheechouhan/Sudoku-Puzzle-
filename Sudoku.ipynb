{
 "cells": [
  {
   "cell_type": "code",
   "execution_count": 5,
   "id": "e45ad017-d616-455e-b1e0-77f173977e9d",
   "metadata": {},
   "outputs": [
    {
     "name": "stdin",
     "output_type": "stream",
     "text": [
      "Enter 's' to start the game... s\n"
     ]
    },
    {
     "name": "stdout",
     "output_type": "stream",
     "text": [
      "Enter 'd' to stop the game...\n",
      "0 3 0 | 0 0 6 | 0 0 8 \n",
      "0 0 0 | 0 0 0 | 0 0 6 \n",
      "0 6 0 | 0 0 0 | 7 0 3 \n",
      "- - - - - - - - - - - -\n",
      "0 0 0 | 0 0 0 | 3 0 7 \n",
      "2 5 0 | 0 0 0 | 0 0 0 \n",
      "0 0 6 | 0 0 0 | 0 0 0 \n",
      "- - - - - - - - - - - -\n",
      "0 0 5 | 2 0 0 | 0 0 0 \n",
      "0 0 0 | 4 0 9 | 0 0 0 \n",
      "0 0 0 | 3 0 0 | 0 9 0 \n"
     ]
    },
    {
     "name": "stdin",
     "output_type": "stream",
     "text": [
      "Enter row 1-9 1\n",
      "Enter column 1-9 2\n",
      "Enter number 1-9 4\n"
     ]
    },
    {
     "name": "stdout",
     "output_type": "stream",
     "text": [
      "Invalid move!\n"
     ]
    },
    {
     "name": "stdin",
     "output_type": "stream",
     "text": [
      "Enter 'd' to stop the game otherwise enter... d\n"
     ]
    },
    {
     "name": "stdout",
     "output_type": "stream",
     "text": [
      "Sorry! invalid puzzle\n"
     ]
    }
   ],
   "source": [
    "import random as r\n",
    "\n",
    "def is_valid_to_fill(grid, row, col, num):\n",
    "    #checking row\n",
    "    for i in range(9):\n",
    "        if grid[row][i] == num:\n",
    "            return False\n",
    "    #checking column\n",
    "    for i in range(9):\n",
    "        if grid[i][col] == num:\n",
    "            return False\n",
    "    #checking grid 3X3\n",
    "    i = (row//3) * 3\n",
    "    j = (col//3) * 3\n",
    "    for r in range(i, i+3):\n",
    "        for c in range(j, j+3):\n",
    "            if grid[r][c] == num:\n",
    "                return False\n",
    "    \n",
    "    return True\n",
    "\n",
    "def generate_valid_sudoku():\n",
    "    grid = [[0] * 9 for _ in range(9)]\n",
    "\n",
    "    for i in range(30):\n",
    "        row = r.randint(0, 8)\n",
    "        col = r.randint(0, 8)\n",
    "        num = r.randint(1, 9)\n",
    "        if is_valid_to_fill(grid, row, col, num):\n",
    "            grid[row][col] = num\n",
    "            \n",
    "    return grid\n",
    "\n",
    "def print_sudoku(grid):\n",
    "    for i in range(9):\n",
    "        if i % 3 == 0 and i != 0:\n",
    "            print(\"- - - - - - - - - - - -\")\n",
    "\n",
    "        for j in range(9):\n",
    "            if j % 3 == 0 and j != 0:\n",
    "                print(\"| \", end=\"\")\n",
    "\n",
    "            print(grid[i][j], end=\" \")\n",
    "\n",
    "        print()\n",
    "\n",
    "def is_sudoku_solved(grid):\n",
    "    for row in range(9):\n",
    "        for col in range(9):\n",
    "            if grid[row][col] == 0 or not is_valid_to_fill(grid, row, col, grid[row][col]):\n",
    "                return False\n",
    "    return True\n",
    "\n",
    "def game_play():\n",
    "    grid = generate_valid_sudoku()\n",
    "    s = input(\"Enter 's' to start the game...\")\n",
    "    print(\"Enter 'd' to stop the game...\")\n",
    "    d = 'n'\n",
    "    if(s == 's'):\n",
    "        while d != 'd':\n",
    "            print_sudoku(grid)\n",
    "            row = int(input(\"Enter row 1-9\"))\n",
    "            col = int(input(\"Enter column 1-9\"))\n",
    "            num = int(input(\"Enter number 1-9\"))\n",
    "            if grid[row-1][col-1] == 0 and is_valid_to_fill(grid, row-1, col-1, num):\n",
    "                grid[row-1][col-1] = num\n",
    "            else:\n",
    "                print(\"Invalid move!\")\n",
    "            d = input(\"Enter 'd' to stop the game otherwise enter...\")\n",
    "    else:\n",
    "        print(\"You can try again!\")\n",
    "    if is_sudoku_solved(grid):\n",
    "        print(\"Congratulations! You have solved the puzzle\")\n",
    "    else:\n",
    "        print(\"Sorry! invalid puzzle\")\n",
    "\n",
    "game_play()"
   ]
  },
  {
   "cell_type": "code",
   "execution_count": 36,
   "id": "2fc221b6-48d7-4e21-8d2a-50d24bbfea92",
   "metadata": {},
   "outputs": [
    {
     "data": {
      "text/plain": [
       "7"
      ]
     },
     "execution_count": 36,
     "metadata": {},
     "output_type": "execute_result"
    }
   ],
   "source": []
  }
 ],
 "metadata": {
  "kernelspec": {
   "display_name": "Python 3 (ipykernel)",
   "language": "python",
   "name": "python3"
  },
  "language_info": {
   "codemirror_mode": {
    "name": "ipython",
    "version": 3
   },
   "file_extension": ".py",
   "mimetype": "text/x-python",
   "name": "python",
   "nbconvert_exporter": "python",
   "pygments_lexer": "ipython3",
   "version": "3.12.7"
  }
 },
 "nbformat": 4,
 "nbformat_minor": 5
}
